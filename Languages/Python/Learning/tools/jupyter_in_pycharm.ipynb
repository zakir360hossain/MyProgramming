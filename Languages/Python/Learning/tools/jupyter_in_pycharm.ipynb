{
 "cells": [
  {
   "cell_type": "code",
   "execution_count": null,
   "outputs": [],
   "source": [
    "import numpy as np\n",
    "\n",
    "d = 10**2 + 3**3\n",
    "print(d)"
   ],
   "metadata": {
    "collapsed": false,
    "pycharm": {
     "name": "#%%\n"
    }
   }
  },
  {
   "cell_type": "code",
   "execution_count": 7,
   "outputs": [
    {
     "name": "stdout",
     "output_type": "stream",
     "text": [
      "[0.58719353 0.36968756 0.35166476 0.33530292 0.91963795 0.74828655\n",
      " 0.99857321 0.07238203 0.08735547 0.96206057 0.28686367 0.78945559\n",
      " 0.92016089 0.38747115 0.13168478 0.05388785 0.63962206 0.11574459\n",
      " 0.27519338 0.62142734]\n",
      "0.5871935282096554\n",
      "0.36968755572721057\n",
      "0.35166475789584284\n",
      "0.3353029192090594\n",
      "0.9196379488398848\n",
      "0.7482865547714442\n",
      "0.99857320975561\n",
      "0.07238203019686129\n",
      "0.08735546996475885\n",
      "0.9620605723942492\n",
      "0.2868636729087789\n",
      "0.7894555923870329\n",
      "0.9201608923554768\n",
      "0.38747114638634583\n",
      "0.13168477781367816\n",
      "0.05388785054508283\n",
      "0.6396220612010379\n",
      "0.11574458732673443\n",
      "0.2751933798420563\n",
      "0.6214273430936235\n"
     ]
    }
   ],
   "source": [
    "N = 20\n",
    "x = np.array(np.random.rand(N))\n",
    "print(x)\n"
   ],
   "metadata": {
    "collapsed": false,
    "pycharm": {
     "name": "#%%\n"
    }
   }
  }
 ],
 "metadata": {
  "kernelspec": {
   "display_name": "Python 3",
   "language": "python",
   "name": "python3"
  },
  "language_info": {
   "codemirror_mode": {
    "name": "ipython",
    "version": 2
   },
   "file_extension": ".py",
   "mimetype": "text/x-python",
   "name": "python",
   "nbconvert_exporter": "python",
   "pygments_lexer": "ipython2",
   "version": "2.7.6"
  }
 },
 "nbformat": 4,
 "nbformat_minor": 0
}