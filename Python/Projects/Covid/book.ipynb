{
 "nbformat": 4,
 "nbformat_minor": 2,
 "metadata": {
  "language_info": {
   "name": "python",
   "codemirror_mode": {
    "name": "ipython",
    "version": 3
   },
   "version": "3.7.4-final"
  },
  "orig_nbformat": 2,
  "file_extension": ".py",
  "mimetype": "text/x-python",
  "name": "python",
  "npconvert_exporter": "python",
  "pygments_lexer": "ipython3",
  "version": 3,
  "kernelspec": {
   "name": "python37464bitbaseconda51c9132cbbaf453692c688b147b95ee4",
   "display_name": "Python 3.7.4 64-bit ('base': conda)"
  }
 },
 "cells": [
  {
   "cell_type": "code",
   "execution_count": 66,
   "metadata": {},
   "outputs": [],
   "source": [
    "import pandas as pd"
   ]
  },
  {
   "cell_type": "code",
   "execution_count": 67,
   "metadata": {},
   "outputs": [
    {
     "output_type": "execute_result",
     "data": {
      "text/plain": "        Fever  Myalgia  Age  Rhinorrhea  Dyspnea  Covid_Prob\n0   93.284154        1    8           1       -1           0\n1   96.631362        1    7           1       -1           1\n2   99.984122        1   86           0       -1           0\n3   95.411629        0   92           1        1           1\n4  107.938645        1   56           0        0           0",
      "text/html": "<div>\n<style scoped>\n    .dataframe tbody tr th:only-of-type {\n        vertical-align: middle;\n    }\n\n    .dataframe tbody tr th {\n        vertical-align: top;\n    }\n\n    .dataframe thead th {\n        text-align: right;\n    }\n</style>\n<table border=\"1\" class=\"dataframe\">\n  <thead>\n    <tr style=\"text-align: right;\">\n      <th></th>\n      <th>Fever</th>\n      <th>Myalgia</th>\n      <th>Age</th>\n      <th>Rhinorrhea</th>\n      <th>Dyspnea</th>\n      <th>Covid_Prob</th>\n    </tr>\n  </thead>\n  <tbody>\n    <tr>\n      <th>0</th>\n      <td>93.284154</td>\n      <td>1</td>\n      <td>8</td>\n      <td>1</td>\n      <td>-1</td>\n      <td>0</td>\n    </tr>\n    <tr>\n      <th>1</th>\n      <td>96.631362</td>\n      <td>1</td>\n      <td>7</td>\n      <td>1</td>\n      <td>-1</td>\n      <td>1</td>\n    </tr>\n    <tr>\n      <th>2</th>\n      <td>99.984122</td>\n      <td>1</td>\n      <td>86</td>\n      <td>0</td>\n      <td>-1</td>\n      <td>0</td>\n    </tr>\n    <tr>\n      <th>3</th>\n      <td>95.411629</td>\n      <td>0</td>\n      <td>92</td>\n      <td>1</td>\n      <td>1</td>\n      <td>1</td>\n    </tr>\n    <tr>\n      <th>4</th>\n      <td>107.938645</td>\n      <td>1</td>\n      <td>56</td>\n      <td>0</td>\n      <td>0</td>\n      <td>0</td>\n    </tr>\n  </tbody>\n</table>\n</div>"
     },
     "metadata": {},
     "execution_count": 67
    }
   ],
   "source": [
    "#Reading data\n",
    "df = pd.read_csv('data.csv')\n",
    "df.head()\n",
    "#df.tail()"
   ]
  },
  {
   "cell_type": "code",
   "execution_count": 68,
   "metadata": {},
   "outputs": [
    {
     "output_type": "stream",
     "name": "stdout",
     "text": "<class 'pandas.core.frame.DataFrame'>\nRangeIndex: 2999 entries, 0 to 2998\nData columns (total 6 columns):\n #   Column      Non-Null Count  Dtype  \n---  ------      --------------  -----  \n 0   Fever       2999 non-null   float64\n 1   Myalgia     2999 non-null   int64  \n 2   Age         2999 non-null   int64  \n 3   Rhinorrhea  2999 non-null   int64  \n 4   Dyspnea     2999 non-null   int64  \n 5   Covid_Prob  2999 non-null   int64  \ndtypes: float64(1), int64(5)\nmemory usage: 140.7 KB\n"
    }
   ],
   "source": [
    "df.info()"
   ]
  },
  {
   "cell_type": "code",
   "execution_count": 69,
   "metadata": {},
   "outputs": [
    {
     "output_type": "execute_result",
     "data": {
      "text/plain": "-1    1029\n 1    1016\n 0     954\nName: Dyspnea, dtype: int64"
     },
     "metadata": {},
     "execution_count": 69
    }
   ],
   "source": [
    "df['Dyspnea'].value_counts()"
   ]
  },
  {
   "cell_type": "code",
   "execution_count": 70,
   "metadata": {},
   "outputs": [
    {
     "output_type": "execute_result",
     "data": {
      "text/plain": "             Fever      Myalgia          Age   Rhinorrhea      Dyspnea  \\\ncount  2999.000000  2999.000000  2999.000000  2999.000000  2999.000000   \nmean    103.377591     0.510504    50.535512     0.481827    -0.004335   \nstd       6.140242     0.499973    28.670216     0.499753     0.825895   \nmin      93.018167     0.000000     1.000000     0.000000    -1.000000   \n25%      98.046747     0.000000    26.000000     0.000000    -1.000000   \n50%     103.228777     1.000000    50.000000     0.000000     0.000000   \n75%     108.815313     1.000000    75.000000     1.000000     1.000000   \nmax     113.998125     1.000000   100.000000     1.000000     1.000000   \n\n        Covid_Prob  \ncount  2999.000000  \nmean      0.489163  \nstd       0.499966  \nmin       0.000000  \n25%       0.000000  \n50%       0.000000  \n75%       1.000000  \nmax       1.000000  ",
      "text/html": "<div>\n<style scoped>\n    .dataframe tbody tr th:only-of-type {\n        vertical-align: middle;\n    }\n\n    .dataframe tbody tr th {\n        vertical-align: top;\n    }\n\n    .dataframe thead th {\n        text-align: right;\n    }\n</style>\n<table border=\"1\" class=\"dataframe\">\n  <thead>\n    <tr style=\"text-align: right;\">\n      <th></th>\n      <th>Fever</th>\n      <th>Myalgia</th>\n      <th>Age</th>\n      <th>Rhinorrhea</th>\n      <th>Dyspnea</th>\n      <th>Covid_Prob</th>\n    </tr>\n  </thead>\n  <tbody>\n    <tr>\n      <th>count</th>\n      <td>2999.000000</td>\n      <td>2999.000000</td>\n      <td>2999.000000</td>\n      <td>2999.000000</td>\n      <td>2999.000000</td>\n      <td>2999.000000</td>\n    </tr>\n    <tr>\n      <th>mean</th>\n      <td>103.377591</td>\n      <td>0.510504</td>\n      <td>50.535512</td>\n      <td>0.481827</td>\n      <td>-0.004335</td>\n      <td>0.489163</td>\n    </tr>\n    <tr>\n      <th>std</th>\n      <td>6.140242</td>\n      <td>0.499973</td>\n      <td>28.670216</td>\n      <td>0.499753</td>\n      <td>0.825895</td>\n      <td>0.499966</td>\n    </tr>\n    <tr>\n      <th>min</th>\n      <td>93.018167</td>\n      <td>0.000000</td>\n      <td>1.000000</td>\n      <td>0.000000</td>\n      <td>-1.000000</td>\n      <td>0.000000</td>\n    </tr>\n    <tr>\n      <th>25%</th>\n      <td>98.046747</td>\n      <td>0.000000</td>\n      <td>26.000000</td>\n      <td>0.000000</td>\n      <td>-1.000000</td>\n      <td>0.000000</td>\n    </tr>\n    <tr>\n      <th>50%</th>\n      <td>103.228777</td>\n      <td>1.000000</td>\n      <td>50.000000</td>\n      <td>0.000000</td>\n      <td>0.000000</td>\n      <td>0.000000</td>\n    </tr>\n    <tr>\n      <th>75%</th>\n      <td>108.815313</td>\n      <td>1.000000</td>\n      <td>75.000000</td>\n      <td>1.000000</td>\n      <td>1.000000</td>\n      <td>1.000000</td>\n    </tr>\n    <tr>\n      <th>max</th>\n      <td>113.998125</td>\n      <td>1.000000</td>\n      <td>100.000000</td>\n      <td>1.000000</td>\n      <td>1.000000</td>\n      <td>1.000000</td>\n    </tr>\n  </tbody>\n</table>\n</div>"
     },
     "metadata": {},
     "execution_count": 70
    }
   ],
   "source": [
    "df.describe()"
   ]
  },
  {
   "cell_type": "code",
   "execution_count": 71,
   "metadata": {},
   "outputs": [],
   "source": [
    "# Train Test Spliting\n",
    "import numpy as np\n",
    ""
   ]
  },
  {
   "cell_type": "code",
   "execution_count": 72,
   "metadata": {},
   "outputs": [],
   "source": [
    "def slicing(data, ratio):\n",
    "    np.random.seed(1)\n",
    "    # Basic slicing\n",
    "    shuffled = np.random.permutation(len(data))\n",
    "    test_set_size = int(len(data)*ratio) # size data for the test\n",
    "    test_indices = shuffled[:test_set_size] # index from row 1 up to row test-_size, the last one is exclusive\n",
    "    train_indices = shuffled[test_set_size:] # index from rwo test_size to last.\n",
    "    return data.iloc[train_indices], data.iloc[test_indices] # extracting rows using iloc(imaginary), instead of loc,          method when the indices are unknown."
   ]
  },
  {
   "cell_type": "code",
   "execution_count": 73,
   "metadata": {},
   "outputs": [],
   "source": [
    "train, test = slicing(df, 0.2) # 20% for test and 80% for train\n",
    ""
   ]
  },
  {
   "cell_type": "code",
   "execution_count": 74,
   "metadata": {},
   "outputs": [
    {
     "output_type": "execute_result",
     "data": {
      "text/plain": "           Fever  Myalgia  Age  Rhinorrhea  Dyspnea  Covid_Prob\n1177  107.267718        1   73           0       -1           0\n268   106.873051        1   59           0        0           0\n32    112.370178        1   87           0        0           0\n199   108.204716        1   80           0        1           0\n1382  109.415264        1   35           1        1           1\n...          ...      ...  ...         ...      ...         ...\n2763   96.553008        0   73           0       -1           1\n905   107.538731        1   77           1       -1           0\n1096   93.745437        0    4           0       -1           0\n235   104.634682        0   69           0        0           1\n1061  102.004200        0   90           0       -1           1\n\n[2400 rows x 6 columns]",
      "text/html": "<div>\n<style scoped>\n    .dataframe tbody tr th:only-of-type {\n        vertical-align: middle;\n    }\n\n    .dataframe tbody tr th {\n        vertical-align: top;\n    }\n\n    .dataframe thead th {\n        text-align: right;\n    }\n</style>\n<table border=\"1\" class=\"dataframe\">\n  <thead>\n    <tr style=\"text-align: right;\">\n      <th></th>\n      <th>Fever</th>\n      <th>Myalgia</th>\n      <th>Age</th>\n      <th>Rhinorrhea</th>\n      <th>Dyspnea</th>\n      <th>Covid_Prob</th>\n    </tr>\n  </thead>\n  <tbody>\n    <tr>\n      <th>1177</th>\n      <td>107.267718</td>\n      <td>1</td>\n      <td>73</td>\n      <td>0</td>\n      <td>-1</td>\n      <td>0</td>\n    </tr>\n    <tr>\n      <th>268</th>\n      <td>106.873051</td>\n      <td>1</td>\n      <td>59</td>\n      <td>0</td>\n      <td>0</td>\n      <td>0</td>\n    </tr>\n    <tr>\n      <th>32</th>\n      <td>112.370178</td>\n      <td>1</td>\n      <td>87</td>\n      <td>0</td>\n      <td>0</td>\n      <td>0</td>\n    </tr>\n    <tr>\n      <th>199</th>\n      <td>108.204716</td>\n      <td>1</td>\n      <td>80</td>\n      <td>0</td>\n      <td>1</td>\n      <td>0</td>\n    </tr>\n    <tr>\n      <th>1382</th>\n      <td>109.415264</td>\n      <td>1</td>\n      <td>35</td>\n      <td>1</td>\n      <td>1</td>\n      <td>1</td>\n    </tr>\n    <tr>\n      <th>...</th>\n      <td>...</td>\n      <td>...</td>\n      <td>...</td>\n      <td>...</td>\n      <td>...</td>\n      <td>...</td>\n    </tr>\n    <tr>\n      <th>2763</th>\n      <td>96.553008</td>\n      <td>0</td>\n      <td>73</td>\n      <td>0</td>\n      <td>-1</td>\n      <td>1</td>\n    </tr>\n    <tr>\n      <th>905</th>\n      <td>107.538731</td>\n      <td>1</td>\n      <td>77</td>\n      <td>1</td>\n      <td>-1</td>\n      <td>0</td>\n    </tr>\n    <tr>\n      <th>1096</th>\n      <td>93.745437</td>\n      <td>0</td>\n      <td>4</td>\n      <td>0</td>\n      <td>-1</td>\n      <td>0</td>\n    </tr>\n    <tr>\n      <th>235</th>\n      <td>104.634682</td>\n      <td>0</td>\n      <td>69</td>\n      <td>0</td>\n      <td>0</td>\n      <td>1</td>\n    </tr>\n    <tr>\n      <th>1061</th>\n      <td>102.004200</td>\n      <td>0</td>\n      <td>90</td>\n      <td>0</td>\n      <td>-1</td>\n      <td>1</td>\n    </tr>\n  </tbody>\n</table>\n<p>2400 rows × 6 columns</p>\n</div>"
     },
     "metadata": {},
     "execution_count": 74
    }
   ],
   "source": [
    "train"
   ]
  },
  {
   "cell_type": "code",
   "execution_count": 75,
   "metadata": {},
   "outputs": [
    {
     "output_type": "execute_result",
     "data": {
      "text/plain": "           Fever  Myalgia  Age  Rhinorrhea  Dyspnea  Covid_Prob\n2056   97.540859        0   29           1        1           0\n1742   98.298742        0   39           1        1           0\n2578   95.422906        1   22           1       -1           1\n2100   98.816288        1   78           0        1           0\n1787  112.202795        1   48           0        1           1\n...          ...      ...  ...         ...      ...         ...\n439   110.587563        1   12           1        0           1\n2196   96.137981        1   26           1        1           0\n94    113.683829        1   71           0       -1           0\n2418  102.193326        1   33           0       -1           0\n1413   99.005452        0   49           1       -1           1\n\n[599 rows x 6 columns]",
      "text/html": "<div>\n<style scoped>\n    .dataframe tbody tr th:only-of-type {\n        vertical-align: middle;\n    }\n\n    .dataframe tbody tr th {\n        vertical-align: top;\n    }\n\n    .dataframe thead th {\n        text-align: right;\n    }\n</style>\n<table border=\"1\" class=\"dataframe\">\n  <thead>\n    <tr style=\"text-align: right;\">\n      <th></th>\n      <th>Fever</th>\n      <th>Myalgia</th>\n      <th>Age</th>\n      <th>Rhinorrhea</th>\n      <th>Dyspnea</th>\n      <th>Covid_Prob</th>\n    </tr>\n  </thead>\n  <tbody>\n    <tr>\n      <th>2056</th>\n      <td>97.540859</td>\n      <td>0</td>\n      <td>29</td>\n      <td>1</td>\n      <td>1</td>\n      <td>0</td>\n    </tr>\n    <tr>\n      <th>1742</th>\n      <td>98.298742</td>\n      <td>0</td>\n      <td>39</td>\n      <td>1</td>\n      <td>1</td>\n      <td>0</td>\n    </tr>\n    <tr>\n      <th>2578</th>\n      <td>95.422906</td>\n      <td>1</td>\n      <td>22</td>\n      <td>1</td>\n      <td>-1</td>\n      <td>1</td>\n    </tr>\n    <tr>\n      <th>2100</th>\n      <td>98.816288</td>\n      <td>1</td>\n      <td>78</td>\n      <td>0</td>\n      <td>1</td>\n      <td>0</td>\n    </tr>\n    <tr>\n      <th>1787</th>\n      <td>112.202795</td>\n      <td>1</td>\n      <td>48</td>\n      <td>0</td>\n      <td>1</td>\n      <td>1</td>\n    </tr>\n    <tr>\n      <th>...</th>\n      <td>...</td>\n      <td>...</td>\n      <td>...</td>\n      <td>...</td>\n      <td>...</td>\n      <td>...</td>\n    </tr>\n    <tr>\n      <th>439</th>\n      <td>110.587563</td>\n      <td>1</td>\n      <td>12</td>\n      <td>1</td>\n      <td>0</td>\n      <td>1</td>\n    </tr>\n    <tr>\n      <th>2196</th>\n      <td>96.137981</td>\n      <td>1</td>\n      <td>26</td>\n      <td>1</td>\n      <td>1</td>\n      <td>0</td>\n    </tr>\n    <tr>\n      <th>94</th>\n      <td>113.683829</td>\n      <td>1</td>\n      <td>71</td>\n      <td>0</td>\n      <td>-1</td>\n      <td>0</td>\n    </tr>\n    <tr>\n      <th>2418</th>\n      <td>102.193326</td>\n      <td>1</td>\n      <td>33</td>\n      <td>0</td>\n      <td>-1</td>\n      <td>0</td>\n    </tr>\n    <tr>\n      <th>1413</th>\n      <td>99.005452</td>\n      <td>0</td>\n      <td>49</td>\n      <td>1</td>\n      <td>-1</td>\n      <td>1</td>\n    </tr>\n  </tbody>\n</table>\n<p>599 rows × 6 columns</p>\n</div>"
     },
     "metadata": {},
     "execution_count": 75
    }
   ],
   "source": [
    "test"
   ]
  },
  {
   "cell_type": "code",
   "execution_count": 76,
   "metadata": {},
   "outputs": [
    {
     "output_type": "execute_result",
     "data": {
      "text/plain": "array([[107.2677175 ,   1.        ,  73.        ,   0.        ,\n         -1.        ],\n       [106.8730513 ,   1.        ,  59.        ,   0.        ,\n          0.        ],\n       [112.3701784 ,   1.        ,  87.        ,   0.        ,\n          0.        ],\n       ...,\n       [ 93.74543741,   0.        ,   4.        ,   0.        ,\n         -1.        ],\n       [104.6346817 ,   0.        ,  69.        ,   0.        ,\n          0.        ],\n       [102.0042005 ,   0.        ,  90.        ,   0.        ,\n         -1.        ]])"
     },
     "metadata": {},
     "execution_count": 76
    }
   ],
   "source": [
    "# Converting the data to numpy array\n",
    "input_train = train[['Fever', 'Myalgia', 'Age', 'Rhinorrhea', 'Dyspnea']].to_numpy()\n",
    "input_test = test[['Fever', 'Myalgia', 'Age', 'Rhinorrhea', 'Dyspnea']].to_numpy()\n",
    "input_train"
   ]
  },
  {
   "cell_type": "code",
   "execution_count": 77,
   "metadata": {},
   "outputs": [
    {
     "output_type": "execute_result",
     "data": {
      "text/plain": "array([[0],\n       [0],\n       [0],\n       ...,\n       [0],\n       [1],\n       [1]])"
     },
     "metadata": {},
     "execution_count": 77
    }
   ],
   "source": [
    "output_train = train[['Covid_Prob']].to_numpy().reshape(2400, -1)\n",
    "output_test = test[['Covid_Prob']].to_numpy().reshape(599, -1)\n",
    "output_train"
   ]
  },
  {
   "cell_type": "code",
   "execution_count": 78,
   "metadata": {},
   "outputs": [],
   "source": [
    "from sklearn.linear_model import LogisticRegression"
   ]
  },
  {
   "cell_type": "code",
   "execution_count": 79,
   "metadata": {},
   "outputs": [
    {
     "output_type": "execute_result",
     "data": {
      "text/plain": "LogisticRegression(C=1.0, class_weight=None, dual=False, fit_intercept=True,\n                   intercept_scaling=1, l1_ratio=None, max_iter=100,\n                   multi_class='auto', n_jobs=None, penalty='l2',\n                   random_state=None, solver='lbfgs', tol=0.0001, verbose=0,\n                   warm_start=False)"
     },
     "metadata": {},
     "execution_count": 79
    }
   ],
   "source": [
    "classifier = LogisticRegression()\n",
    "classifier.fit(X_train, output_train)"
   ]
  },
  {
   "cell_type": "code",
   "execution_count": 80,
   "metadata": {},
   "outputs": [
    {
     "output_type": "stream",
     "name": "stdout",
     "text": "[[0.48847639 0.51152361]]\n0.4884763892283658\n0.5115236107716342\n"
    }
   ],
   "source": [
    "# Predicting\n",
    "feature = [100, 1, 36, -1, 1]\n",
    "# Fever=100, Myalgia = yes, age=22, Rhinorrhea = yes, Dyspnea = yes\n",
    "probability = classifier.predict_proba([feature]) # Returns a 2D array [a, b]. a being not having (classfier 0), b being having (classifier 1).\n",
    "\n",
    "print(probability)\n",
    "negative = probability[0][0]\n",
    "positive = probability[0][1]\n",
    "print(negative)\n",
    "print(positive)"
   ]
  },
  {
   "cell_type": "code",
   "execution_count": 80,
   "metadata": {},
   "outputs": [],
   "source": [
    "\n",
    ""
   ]
  }
 ]
}